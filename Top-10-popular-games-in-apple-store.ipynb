{
 "cells": [
  {
   "cell_type": "markdown",
   "metadata": {},
   "source": [
    "### Import Libraries"
   ]
  },
  {
   "cell_type": "code",
   "execution_count": 45,
   "metadata": {},
   "outputs": [],
   "source": [
    "import os\n",
    "import pandas as pd\n",
    "import seaborn as sns\n",
    "import matplotlib.pyplot as plt\n",
    "import numpy as np\n"
   ]
  },
  {
   "cell_type": "markdown",
   "metadata": {},
   "source": [
    "### Read Data"
   ]
  },
  {
   "cell_type": "code",
   "execution_count": 3,
   "metadata": {},
   "outputs": [],
   "source": [
    "apps = pd.read_csv(os.getcwd()+\"/Dataset/appstore_games.csv\")"
   ]
  },
  {
   "cell_type": "markdown",
   "metadata": {},
   "source": [
    "### Data Cleansing"
   ]
  },
  {
   "cell_type": "code",
   "execution_count": 4,
   "metadata": {},
   "outputs": [
    {
     "data": {
      "text/html": [
       "<div>\n",
       "<style scoped>\n",
       "    .dataframe tbody tr th:only-of-type {\n",
       "        vertical-align: middle;\n",
       "    }\n",
       "\n",
       "    .dataframe tbody tr th {\n",
       "        vertical-align: top;\n",
       "    }\n",
       "\n",
       "    .dataframe thead th {\n",
       "        text-align: right;\n",
       "    }\n",
       "</style>\n",
       "<table border=\"1\" class=\"dataframe\">\n",
       "  <thead>\n",
       "    <tr style=\"text-align: right;\">\n",
       "      <th></th>\n",
       "      <th>URL</th>\n",
       "      <th>ID</th>\n",
       "      <th>Name</th>\n",
       "      <th>Subtitle</th>\n",
       "      <th>Icon URL</th>\n",
       "      <th>Average User Rating</th>\n",
       "      <th>User Rating Count</th>\n",
       "      <th>Price</th>\n",
       "      <th>In-app Purchases</th>\n",
       "      <th>Description</th>\n",
       "      <th>Developer</th>\n",
       "      <th>Age Rating</th>\n",
       "      <th>Languages</th>\n",
       "      <th>Size</th>\n",
       "      <th>Primary Genre</th>\n",
       "      <th>Genres</th>\n",
       "      <th>Original Release Date</th>\n",
       "      <th>Current Version Release Date</th>\n",
       "    </tr>\n",
       "  </thead>\n",
       "  <tbody>\n",
       "    <tr>\n",
       "      <th>0</th>\n",
       "      <td>https://apps.apple.com/us/app/sudoku/id284921427</td>\n",
       "      <td>284921427</td>\n",
       "      <td>Sudoku</td>\n",
       "      <td>NaN</td>\n",
       "      <td>https://is2-ssl.mzstatic.com/image/thumb/Purpl...</td>\n",
       "      <td>4.0</td>\n",
       "      <td>3553.0</td>\n",
       "      <td>2.99</td>\n",
       "      <td>NaN</td>\n",
       "      <td>Join over 21,000,000 of our fans and download ...</td>\n",
       "      <td>Mighty Mighty Good Games</td>\n",
       "      <td>4+</td>\n",
       "      <td>DA, NL, EN, FI, FR, DE, IT, JA, KO, NB, PL, PT...</td>\n",
       "      <td>15853568.0</td>\n",
       "      <td>Games</td>\n",
       "      <td>Games, Strategy, Puzzle</td>\n",
       "      <td>11/07/2008</td>\n",
       "      <td>30/05/2017</td>\n",
       "    </tr>\n",
       "    <tr>\n",
       "      <th>1</th>\n",
       "      <td>https://apps.apple.com/us/app/reversi/id284926400</td>\n",
       "      <td>284926400</td>\n",
       "      <td>Reversi</td>\n",
       "      <td>NaN</td>\n",
       "      <td>https://is4-ssl.mzstatic.com/image/thumb/Purpl...</td>\n",
       "      <td>3.5</td>\n",
       "      <td>284.0</td>\n",
       "      <td>1.99</td>\n",
       "      <td>NaN</td>\n",
       "      <td>The classic game of Reversi, also known as Oth...</td>\n",
       "      <td>Kiss The Machine</td>\n",
       "      <td>4+</td>\n",
       "      <td>EN</td>\n",
       "      <td>12328960.0</td>\n",
       "      <td>Games</td>\n",
       "      <td>Games, Strategy, Board</td>\n",
       "      <td>11/07/2008</td>\n",
       "      <td>17/05/2018</td>\n",
       "    </tr>\n",
       "    <tr>\n",
       "      <th>2</th>\n",
       "      <td>https://apps.apple.com/us/app/morocco/id284946595</td>\n",
       "      <td>284946595</td>\n",
       "      <td>Morocco</td>\n",
       "      <td>NaN</td>\n",
       "      <td>https://is5-ssl.mzstatic.com/image/thumb/Purpl...</td>\n",
       "      <td>3.0</td>\n",
       "      <td>8376.0</td>\n",
       "      <td>0.00</td>\n",
       "      <td>NaN</td>\n",
       "      <td>Play the classic strategy game Othello (also k...</td>\n",
       "      <td>Bayou Games</td>\n",
       "      <td>4+</td>\n",
       "      <td>EN</td>\n",
       "      <td>674816.0</td>\n",
       "      <td>Games</td>\n",
       "      <td>Games, Board, Strategy</td>\n",
       "      <td>11/07/2008</td>\n",
       "      <td>5/09/2017</td>\n",
       "    </tr>\n",
       "    <tr>\n",
       "      <th>3</th>\n",
       "      <td>https://apps.apple.com/us/app/sudoku-free/id28...</td>\n",
       "      <td>285755462</td>\n",
       "      <td>Sudoku (Free)</td>\n",
       "      <td>NaN</td>\n",
       "      <td>https://is3-ssl.mzstatic.com/image/thumb/Purpl...</td>\n",
       "      <td>3.5</td>\n",
       "      <td>190394.0</td>\n",
       "      <td>0.00</td>\n",
       "      <td>NaN</td>\n",
       "      <td>Top 100 free app for over a year.\\nRated \"Best...</td>\n",
       "      <td>Mighty Mighty Good Games</td>\n",
       "      <td>4+</td>\n",
       "      <td>DA, NL, EN, FI, FR, DE, IT, JA, KO, NB, PL, PT...</td>\n",
       "      <td>21552128.0</td>\n",
       "      <td>Games</td>\n",
       "      <td>Games, Strategy, Puzzle</td>\n",
       "      <td>23/07/2008</td>\n",
       "      <td>30/05/2017</td>\n",
       "    </tr>\n",
       "    <tr>\n",
       "      <th>4</th>\n",
       "      <td>https://apps.apple.com/us/app/senet-deluxe/id2...</td>\n",
       "      <td>285831220</td>\n",
       "      <td>Senet Deluxe</td>\n",
       "      <td>NaN</td>\n",
       "      <td>https://is1-ssl.mzstatic.com/image/thumb/Purpl...</td>\n",
       "      <td>3.5</td>\n",
       "      <td>28.0</td>\n",
       "      <td>2.99</td>\n",
       "      <td>NaN</td>\n",
       "      <td>\"Senet Deluxe - The Ancient Game of Life and A...</td>\n",
       "      <td>RoGame Software</td>\n",
       "      <td>4+</td>\n",
       "      <td>DA, NL, EN, FR, DE, EL, IT, JA, KO, NO, PT, RU...</td>\n",
       "      <td>34689024.0</td>\n",
       "      <td>Games</td>\n",
       "      <td>Games, Strategy, Board, Education</td>\n",
       "      <td>18/07/2008</td>\n",
       "      <td>22/07/2018</td>\n",
       "    </tr>\n",
       "  </tbody>\n",
       "</table>\n",
       "</div>"
      ],
      "text/plain": [
       "                                                 URL         ID  \\\n",
       "0   https://apps.apple.com/us/app/sudoku/id284921427  284921427   \n",
       "1  https://apps.apple.com/us/app/reversi/id284926400  284926400   \n",
       "2  https://apps.apple.com/us/app/morocco/id284946595  284946595   \n",
       "3  https://apps.apple.com/us/app/sudoku-free/id28...  285755462   \n",
       "4  https://apps.apple.com/us/app/senet-deluxe/id2...  285831220   \n",
       "\n",
       "            Name Subtitle                                           Icon URL  \\\n",
       "0         Sudoku      NaN  https://is2-ssl.mzstatic.com/image/thumb/Purpl...   \n",
       "1        Reversi      NaN  https://is4-ssl.mzstatic.com/image/thumb/Purpl...   \n",
       "2        Morocco      NaN  https://is5-ssl.mzstatic.com/image/thumb/Purpl...   \n",
       "3  Sudoku (Free)      NaN  https://is3-ssl.mzstatic.com/image/thumb/Purpl...   \n",
       "4   Senet Deluxe      NaN  https://is1-ssl.mzstatic.com/image/thumb/Purpl...   \n",
       "\n",
       "   Average User Rating  User Rating Count  Price In-app Purchases  \\\n",
       "0                  4.0             3553.0   2.99              NaN   \n",
       "1                  3.5              284.0   1.99              NaN   \n",
       "2                  3.0             8376.0   0.00              NaN   \n",
       "3                  3.5           190394.0   0.00              NaN   \n",
       "4                  3.5               28.0   2.99              NaN   \n",
       "\n",
       "                                         Description  \\\n",
       "0  Join over 21,000,000 of our fans and download ...   \n",
       "1  The classic game of Reversi, also known as Oth...   \n",
       "2  Play the classic strategy game Othello (also k...   \n",
       "3  Top 100 free app for over a year.\\nRated \"Best...   \n",
       "4  \"Senet Deluxe - The Ancient Game of Life and A...   \n",
       "\n",
       "                  Developer Age Rating  \\\n",
       "0  Mighty Mighty Good Games         4+   \n",
       "1          Kiss The Machine         4+   \n",
       "2               Bayou Games         4+   \n",
       "3  Mighty Mighty Good Games         4+   \n",
       "4           RoGame Software         4+   \n",
       "\n",
       "                                           Languages        Size  \\\n",
       "0  DA, NL, EN, FI, FR, DE, IT, JA, KO, NB, PL, PT...  15853568.0   \n",
       "1                                                 EN  12328960.0   \n",
       "2                                                 EN    674816.0   \n",
       "3  DA, NL, EN, FI, FR, DE, IT, JA, KO, NB, PL, PT...  21552128.0   \n",
       "4  DA, NL, EN, FR, DE, EL, IT, JA, KO, NO, PT, RU...  34689024.0   \n",
       "\n",
       "  Primary Genre                             Genres Original Release Date  \\\n",
       "0         Games            Games, Strategy, Puzzle            11/07/2008   \n",
       "1         Games             Games, Strategy, Board            11/07/2008   \n",
       "2         Games             Games, Board, Strategy            11/07/2008   \n",
       "3         Games            Games, Strategy, Puzzle            23/07/2008   \n",
       "4         Games  Games, Strategy, Board, Education            18/07/2008   \n",
       "\n",
       "  Current Version Release Date  \n",
       "0                   30/05/2017  \n",
       "1                   17/05/2018  \n",
       "2                    5/09/2017  \n",
       "3                   30/05/2017  \n",
       "4                   22/07/2018  "
      ]
     },
     "execution_count": 4,
     "metadata": {},
     "output_type": "execute_result"
    }
   ],
   "source": [
    "# head of dataset\n",
    "\n",
    "apps.head()"
   ]
  },
  {
   "cell_type": "code",
   "execution_count": 5,
   "metadata": {},
   "outputs": [
    {
     "data": {
      "text/plain": [
       "(17007, 18)"
      ]
     },
     "execution_count": 5,
     "metadata": {},
     "output_type": "execute_result"
    }
   ],
   "source": [
    "# shape of the dataset\n",
    "\n",
    "apps.shape"
   ]
  },
  {
   "cell_type": "code",
   "execution_count": 6,
   "metadata": {},
   "outputs": [],
   "source": [
    "# dropping unused columns\n",
    "\n",
    "apps.drop(columns=[\"URL\" ,\"Subtitle\", \"Icon URL\", \"Description\"], inplace=True)"
   ]
  },
  {
   "cell_type": "code",
   "execution_count": 7,
   "metadata": {},
   "outputs": [
    {
     "data": {
      "text/plain": [
       "(17007, 14)"
      ]
     },
     "execution_count": 7,
     "metadata": {},
     "output_type": "execute_result"
    }
   ],
   "source": [
    "apps.shape"
   ]
  },
  {
   "cell_type": "markdown",
   "metadata": {},
   "source": [
    "#### Check data type"
   ]
  },
  {
   "cell_type": "code",
   "execution_count": 8,
   "metadata": {},
   "outputs": [
    {
     "name": "stdout",
     "output_type": "stream",
     "text": [
      "<class 'pandas.core.frame.DataFrame'>\n",
      "RangeIndex: 17007 entries, 0 to 17006\n",
      "Data columns (total 14 columns):\n",
      " #   Column                        Non-Null Count  Dtype  \n",
      "---  ------                        --------------  -----  \n",
      " 0   ID                            17007 non-null  int64  \n",
      " 1   Name                          17007 non-null  object \n",
      " 2   Average User Rating           7561 non-null   float64\n",
      " 3   User Rating Count             7561 non-null   float64\n",
      " 4   Price                         16983 non-null  float64\n",
      " 5   In-app Purchases              7683 non-null   object \n",
      " 6   Developer                     17007 non-null  object \n",
      " 7   Age Rating                    17007 non-null  object \n",
      " 8   Languages                     16947 non-null  object \n",
      " 9   Size                          17006 non-null  float64\n",
      " 10  Primary Genre                 17007 non-null  object \n",
      " 11  Genres                        17007 non-null  object \n",
      " 12  Original Release Date         17007 non-null  object \n",
      " 13  Current Version Release Date  17007 non-null  object \n",
      "dtypes: float64(4), int64(1), object(9)\n",
      "memory usage: 1.8+ MB\n"
     ]
    }
   ],
   "source": [
    "# data types\n",
    "\n",
    "apps.info()"
   ]
  },
  {
   "cell_type": "code",
   "execution_count": 9,
   "metadata": {},
   "outputs": [],
   "source": [
    "# Change Original Release Date & Current Version Release Date into a datetime column\n",
    "\n",
    "apps[\"Original Release Date\"] = pd.to_datetime(apps[\"Original Release Date\"])\n",
    "apps[\"Current Version Release Date\"] = pd.to_datetime(apps[\"Current Version Release Date\"])"
   ]
  },
  {
   "cell_type": "code",
   "execution_count": 10,
   "metadata": {},
   "outputs": [
    {
     "name": "stdout",
     "output_type": "stream",
     "text": [
      "<class 'pandas.core.frame.DataFrame'>\n",
      "RangeIndex: 17007 entries, 0 to 17006\n",
      "Data columns (total 14 columns):\n",
      " #   Column                        Non-Null Count  Dtype         \n",
      "---  ------                        --------------  -----         \n",
      " 0   ID                            17007 non-null  int64         \n",
      " 1   Name                          17007 non-null  object        \n",
      " 2   Average User Rating           7561 non-null   float64       \n",
      " 3   User Rating Count             7561 non-null   float64       \n",
      " 4   Price                         16983 non-null  float64       \n",
      " 5   In-app Purchases              7683 non-null   object        \n",
      " 6   Developer                     17007 non-null  object        \n",
      " 7   Age Rating                    17007 non-null  object        \n",
      " 8   Languages                     16947 non-null  object        \n",
      " 9   Size                          17006 non-null  float64       \n",
      " 10  Primary Genre                 17007 non-null  object        \n",
      " 11  Genres                        17007 non-null  object        \n",
      " 12  Original Release Date         17007 non-null  datetime64[ns]\n",
      " 13  Current Version Release Date  17007 non-null  datetime64[ns]\n",
      "dtypes: datetime64[ns](2), float64(4), int64(1), object(7)\n",
      "memory usage: 1.8+ MB\n"
     ]
    }
   ],
   "source": [
    "apps.info()"
   ]
  },
  {
   "cell_type": "markdown",
   "metadata": {},
   "source": [
    "#### delete data duplicated"
   ]
  },
  {
   "cell_type": "code",
   "execution_count": 11,
   "metadata": {},
   "outputs": [
    {
     "data": {
      "text/plain": [
       "160"
      ]
     },
     "execution_count": 11,
     "metadata": {},
     "output_type": "execute_result"
    }
   ],
   "source": [
    "duplicate = apps.duplicated()\n",
    "duplicate.sum()"
   ]
  },
  {
   "cell_type": "code",
   "execution_count": 12,
   "metadata": {},
   "outputs": [
    {
     "data": {
      "text/plain": [
       "0"
      ]
     },
     "execution_count": 12,
     "metadata": {},
     "output_type": "execute_result"
    }
   ],
   "source": [
    "# delete data duplicated\n",
    "\n",
    "apps.drop_duplicates(inplace=True)\n",
    "\n",
    "duplicate = apps.duplicated()\n",
    "duplicate.sum()"
   ]
  },
  {
   "cell_type": "markdown",
   "metadata": {},
   "source": [
    "#### Imputation"
   ]
  },
  {
   "cell_type": "code",
   "execution_count": 13,
   "metadata": {},
   "outputs": [
    {
     "data": {
      "text/plain": [
       "ID                                 0\n",
       "Name                               0\n",
       "Average User Rating             9359\n",
       "User Rating Count               9359\n",
       "Price                             24\n",
       "In-app Purchases                9232\n",
       "Developer                          0\n",
       "Age Rating                         0\n",
       "Languages                         60\n",
       "Size                               1\n",
       "Primary Genre                      0\n",
       "Genres                             0\n",
       "Original Release Date              0\n",
       "Current Version Release Date       0\n",
       "dtype: int64"
      ]
     },
     "execution_count": 13,
     "metadata": {},
     "output_type": "execute_result"
    }
   ],
   "source": [
    "apps.isnull().sum()"
   ]
  },
  {
   "cell_type": "code",
   "execution_count": 14,
   "metadata": {},
   "outputs": [
    {
     "data": {
      "text/plain": [
       "7615"
      ]
     },
     "execution_count": 14,
     "metadata": {},
     "output_type": "execute_result"
    }
   ],
   "source": [
    "# number of In-app Purchases\n",
    "\n",
    "In_app_Purchases_before = apps[\"In-app Purchases\"].notnull().sum()\n",
    "In_app_Purchases_before"
   ]
  },
  {
   "cell_type": "code",
   "execution_count": 15,
   "metadata": {},
   "outputs": [],
   "source": [
    "# transform In-app Purchases column\n",
    "# mesk will replace values where the condition is True.\n",
    "\n",
    "apps[\"In-app Purchases\"].mask(apps[\"In-app Purchases\"].notnull(), \"Yes\", inplace=True)\n",
    "apps[\"In-app Purchases\"].mask(apps[\"In-app Purchases\"].isnull(), \"No\", inplace=True)\n",
    "        "
   ]
  },
  {
   "cell_type": "code",
   "execution_count": 16,
   "metadata": {},
   "outputs": [
    {
     "data": {
      "text/plain": [
       "No     9232\n",
       "Yes    7615\n",
       "Name: In-app Purchases, dtype: int64"
      ]
     },
     "execution_count": 16,
     "metadata": {},
     "output_type": "execute_result"
    }
   ],
   "source": [
    "# checking number of In-app Purchases\n",
    "\n",
    "apps[\"In-app Purchases\"].value_counts()"
   ]
  },
  {
   "cell_type": "code",
   "execution_count": 17,
   "metadata": {},
   "outputs": [],
   "source": [
    "# fill null values in Average User Rating and User Rating Count with 0\n",
    "\n",
    "apps[\"Average User Rating\"] = apps[\"Average User Rating\"].fillna(0)\n",
    "apps[\"User Rating Count\"] = apps[\"User Rating Count\"].fillna(0)"
   ]
  },
  {
   "cell_type": "code",
   "execution_count": 18,
   "metadata": {},
   "outputs": [],
   "source": [
    "# fill null values in Price with 0\n",
    "\n",
    "apps[\"Price\"] = apps[\"Price\"].fillna(0)"
   ]
  },
  {
   "cell_type": "code",
   "execution_count": 19,
   "metadata": {},
   "outputs": [],
   "source": [
    "# fill null values in Languages with Unknown\n",
    "\n",
    "apps[\"Languages\"] = apps[\"Languages\"].fillna(\"Unknown\")"
   ]
  },
  {
   "cell_type": "code",
   "execution_count": 20,
   "metadata": {},
   "outputs": [],
   "source": [
    "# fill a null value in Size with average size from others in the same Genres \n",
    "\n",
    "apps[\"Size\"] = apps[\"Size\"].fillna(apps[\"Size\"][apps[\"Genres\"] == \"Games, Strategy, Simulation\"].mean())"
   ]
  },
  {
   "cell_type": "code",
   "execution_count": 21,
   "metadata": {},
   "outputs": [
    {
     "data": {
      "text/plain": [
       "ID                              0\n",
       "Name                            0\n",
       "Average User Rating             0\n",
       "User Rating Count               0\n",
       "Price                           0\n",
       "In-app Purchases                0\n",
       "Developer                       0\n",
       "Age Rating                      0\n",
       "Languages                       0\n",
       "Size                            0\n",
       "Primary Genre                   0\n",
       "Genres                          0\n",
       "Original Release Date           0\n",
       "Current Version Release Date    0\n",
       "dtype: int64"
      ]
     },
     "execution_count": 21,
     "metadata": {},
     "output_type": "execute_result"
    }
   ],
   "source": [
    "apps.isnull().sum()"
   ]
  },
  {
   "cell_type": "markdown",
   "metadata": {},
   "source": [
    "### Selecting KPIs"
   ]
  },
  {
   "cell_type": "code",
   "execution_count": 22,
   "metadata": {},
   "outputs": [],
   "source": [
    "# count number of languages \n",
    "\n",
    "def get_num_lang(cols) :\n",
    "    num_lang_list = []\n",
    "    for col in cols :\n",
    "        lang = col.split(\", \")\n",
    "        num = len(lang)\n",
    "        num_lang_list.append(num)\n",
    "    return(num_lang_list)\n",
    "\n",
    "apps[\"num_Languages\"] = get_num_lang(apps[\"Languages\"])"
   ]
  },
  {
   "cell_type": "code",
   "execution_count": 23,
   "metadata": {},
   "outputs": [
    {
     "data": {
      "text/html": [
       "<div>\n",
       "<style scoped>\n",
       "    .dataframe tbody tr th:only-of-type {\n",
       "        vertical-align: middle;\n",
       "    }\n",
       "\n",
       "    .dataframe tbody tr th {\n",
       "        vertical-align: top;\n",
       "    }\n",
       "\n",
       "    .dataframe thead th {\n",
       "        text-align: right;\n",
       "    }\n",
       "</style>\n",
       "<table border=\"1\" class=\"dataframe\">\n",
       "  <thead>\n",
       "    <tr style=\"text-align: right;\">\n",
       "      <th></th>\n",
       "      <th>ID</th>\n",
       "      <th>Name</th>\n",
       "      <th>Average User Rating</th>\n",
       "      <th>User Rating Count</th>\n",
       "      <th>Price</th>\n",
       "      <th>In-app Purchases</th>\n",
       "      <th>Developer</th>\n",
       "      <th>Age Rating</th>\n",
       "      <th>Languages</th>\n",
       "      <th>Size</th>\n",
       "      <th>Primary Genre</th>\n",
       "      <th>Genres</th>\n",
       "      <th>Original Release Date</th>\n",
       "      <th>Current Version Release Date</th>\n",
       "      <th>num_Languages</th>\n",
       "      <th>Recency</th>\n",
       "    </tr>\n",
       "  </thead>\n",
       "  <tbody>\n",
       "  </tbody>\n",
       "</table>\n",
       "</div>"
      ],
      "text/plain": [
       "Empty DataFrame\n",
       "Columns: [ID, Name, Average User Rating, User Rating Count, Price, In-app Purchases, Developer, Age Rating, Languages, Size, Primary Genre, Genres, Original Release Date, Current Version Release Date, num_Languages, Recency]\n",
       "Index: []"
      ]
     },
     "execution_count": 23,
     "metadata": {},
     "output_type": "execute_result"
    }
   ],
   "source": [
    "# days from Release Date until the last update\n",
    "\n",
    "apps[\"Recency\"] = apps[\"Current Version Release Date\"] - apps[\"Original Release Date\"]\n",
    "apps[\"Recency\"] = apps[\"Recency\"].apply(lambda x : x.days)\n",
    "\n",
    "apps[\"Recency\"] = apps[\"Recency\"].mask(apps[\"Recency\"] < 0, apps[\"Recency\"]*-1)\n",
    "apps[apps[\"Recency\"] < 0]"
   ]
  },
  {
   "cell_type": "code",
   "execution_count": 24,
   "metadata": {},
   "outputs": [],
   "source": [
    "list_KPIs = ['Average User Rating', 'User Rating Count', 'num_Languages', \"Recency\"]"
   ]
  },
  {
   "cell_type": "code",
   "execution_count": 25,
   "metadata": {},
   "outputs": [
    {
     "data": {
      "text/html": [
       "<div>\n",
       "<style scoped>\n",
       "    .dataframe tbody tr th:only-of-type {\n",
       "        vertical-align: middle;\n",
       "    }\n",
       "\n",
       "    .dataframe tbody tr th {\n",
       "        vertical-align: top;\n",
       "    }\n",
       "\n",
       "    .dataframe thead th {\n",
       "        text-align: right;\n",
       "    }\n",
       "</style>\n",
       "<table border=\"1\" class=\"dataframe\">\n",
       "  <thead>\n",
       "    <tr style=\"text-align: right;\">\n",
       "      <th></th>\n",
       "      <th>Average User Rating</th>\n",
       "      <th>User Rating Count</th>\n",
       "      <th>num_Languages</th>\n",
       "      <th>Recency</th>\n",
       "    </tr>\n",
       "  </thead>\n",
       "  <tbody>\n",
       "    <tr>\n",
       "      <th>0</th>\n",
       "      <td>4.0</td>\n",
       "      <td>3553.0</td>\n",
       "      <td>17</td>\n",
       "      <td>3126</td>\n",
       "    </tr>\n",
       "    <tr>\n",
       "      <th>1</th>\n",
       "      <td>3.5</td>\n",
       "      <td>284.0</td>\n",
       "      <td>1</td>\n",
       "      <td>3478</td>\n",
       "    </tr>\n",
       "    <tr>\n",
       "      <th>2</th>\n",
       "      <td>3.0</td>\n",
       "      <td>8376.0</td>\n",
       "      <td>1</td>\n",
       "      <td>3105</td>\n",
       "    </tr>\n",
       "    <tr>\n",
       "      <th>3</th>\n",
       "      <td>3.5</td>\n",
       "      <td>190394.0</td>\n",
       "      <td>17</td>\n",
       "      <td>3233</td>\n",
       "    </tr>\n",
       "    <tr>\n",
       "      <th>4</th>\n",
       "      <td>3.5</td>\n",
       "      <td>28.0</td>\n",
       "      <td>15</td>\n",
       "      <td>3656</td>\n",
       "    </tr>\n",
       "    <tr>\n",
       "      <th>...</th>\n",
       "      <td>...</td>\n",
       "      <td>...</td>\n",
       "      <td>...</td>\n",
       "      <td>...</td>\n",
       "    </tr>\n",
       "    <tr>\n",
       "      <th>17002</th>\n",
       "      <td>0.0</td>\n",
       "      <td>0.0</td>\n",
       "      <td>1</td>\n",
       "      <td>0</td>\n",
       "    </tr>\n",
       "    <tr>\n",
       "      <th>17003</th>\n",
       "      <td>0.0</td>\n",
       "      <td>0.0</td>\n",
       "      <td>1</td>\n",
       "      <td>0</td>\n",
       "    </tr>\n",
       "    <tr>\n",
       "      <th>17004</th>\n",
       "      <td>0.0</td>\n",
       "      <td>0.0</td>\n",
       "      <td>1</td>\n",
       "      <td>0</td>\n",
       "    </tr>\n",
       "    <tr>\n",
       "      <th>17005</th>\n",
       "      <td>0.0</td>\n",
       "      <td>0.0</td>\n",
       "      <td>1</td>\n",
       "      <td>0</td>\n",
       "    </tr>\n",
       "    <tr>\n",
       "      <th>17006</th>\n",
       "      <td>0.0</td>\n",
       "      <td>0.0</td>\n",
       "      <td>2</td>\n",
       "      <td>0</td>\n",
       "    </tr>\n",
       "  </tbody>\n",
       "</table>\n",
       "<p>16847 rows × 4 columns</p>\n",
       "</div>"
      ],
      "text/plain": [
       "       Average User Rating  User Rating Count  num_Languages  Recency\n",
       "0                      4.0             3553.0             17     3126\n",
       "1                      3.5              284.0              1     3478\n",
       "2                      3.0             8376.0              1     3105\n",
       "3                      3.5           190394.0             17     3233\n",
       "4                      3.5               28.0             15     3656\n",
       "...                    ...                ...            ...      ...\n",
       "17002                  0.0                0.0              1        0\n",
       "17003                  0.0                0.0              1        0\n",
       "17004                  0.0                0.0              1        0\n",
       "17005                  0.0                0.0              1        0\n",
       "17006                  0.0                0.0              2        0\n",
       "\n",
       "[16847 rows x 4 columns]"
      ]
     },
     "execution_count": 25,
     "metadata": {},
     "output_type": "execute_result"
    }
   ],
   "source": [
    "apps[list_KPIs]"
   ]
  },
  {
   "cell_type": "code",
   "execution_count": 26,
   "metadata": {},
   "outputs": [
    {
     "data": {
      "text/html": [
       "<style type=\"text/css\">\n",
       "#T_c96c5_row0_col0, #T_c96c5_row1_col1, #T_c96c5_row2_col2, #T_c96c5_row3_col3 {\n",
       "  background-color: #023858;\n",
       "  color: #f1f1f1;\n",
       "}\n",
       "#T_c96c5_row0_col1, #T_c96c5_row1_col0, #T_c96c5_row1_col2, #T_c96c5_row1_col3, #T_c96c5_row2_col1 {\n",
       "  background-color: #fff7fb;\n",
       "  color: #000000;\n",
       "}\n",
       "#T_c96c5_row0_col2 {\n",
       "  background-color: #fbf4f9;\n",
       "  color: #000000;\n",
       "}\n",
       "#T_c96c5_row0_col3 {\n",
       "  background-color: #c8cde4;\n",
       "  color: #000000;\n",
       "}\n",
       "#T_c96c5_row2_col0 {\n",
       "  background-color: #fcf4fa;\n",
       "  color: #000000;\n",
       "}\n",
       "#T_c96c5_row2_col3 {\n",
       "  background-color: #fef6fa;\n",
       "  color: #000000;\n",
       "}\n",
       "#T_c96c5_row3_col0 {\n",
       "  background-color: #c1cae2;\n",
       "  color: #000000;\n",
       "}\n",
       "#T_c96c5_row3_col1 {\n",
       "  background-color: #fbf3f9;\n",
       "  color: #000000;\n",
       "}\n",
       "#T_c96c5_row3_col2 {\n",
       "  background-color: #faf2f8;\n",
       "  color: #000000;\n",
       "}\n",
       "</style>\n",
       "<table id=\"T_c96c5_\">\n",
       "  <thead>\n",
       "    <tr>\n",
       "      <th class=\"blank level0\" >&nbsp;</th>\n",
       "      <th class=\"col_heading level0 col0\" >Average User Rating</th>\n",
       "      <th class=\"col_heading level0 col1\" >User Rating Count</th>\n",
       "      <th class=\"col_heading level0 col2\" >num_Languages</th>\n",
       "      <th class=\"col_heading level0 col3\" >Recency</th>\n",
       "    </tr>\n",
       "  </thead>\n",
       "  <tbody>\n",
       "    <tr>\n",
       "      <th id=\"T_c96c5_level0_row0\" class=\"row_heading level0 row0\" >Average User Rating</th>\n",
       "      <td id=\"T_c96c5_row0_col0\" class=\"data row0 col0\" >1.000000</td>\n",
       "      <td id=\"T_c96c5_row0_col1\" class=\"data row0 col1\" >0.064012</td>\n",
       "      <td id=\"T_c96c5_row0_col2\" class=\"data row0 col2\" >0.084197</td>\n",
       "      <td id=\"T_c96c5_row0_col3\" class=\"data row0 col3\" >0.340560</td>\n",
       "    </tr>\n",
       "    <tr>\n",
       "      <th id=\"T_c96c5_level0_row1\" class=\"row_heading level0 row1\" >User Rating Count</th>\n",
       "      <td id=\"T_c96c5_row1_col0\" class=\"data row1 col0\" >0.064012</td>\n",
       "      <td id=\"T_c96c5_row1_col1\" class=\"data row1 col1\" >1.000000</td>\n",
       "      <td id=\"T_c96c5_row1_col2\" class=\"data row1 col2\" >0.061278</td>\n",
       "      <td id=\"T_c96c5_row1_col3\" class=\"data row1 col3\" >0.088234</td>\n",
       "    </tr>\n",
       "    <tr>\n",
       "      <th id=\"T_c96c5_level0_row2\" class=\"row_heading level0 row2\" >num_Languages</th>\n",
       "      <td id=\"T_c96c5_row2_col0\" class=\"data row2 col0\" >0.084197</td>\n",
       "      <td id=\"T_c96c5_row2_col1\" class=\"data row2 col1\" >0.061278</td>\n",
       "      <td id=\"T_c96c5_row2_col2\" class=\"data row2 col2\" >1.000000</td>\n",
       "      <td id=\"T_c96c5_row2_col3\" class=\"data row2 col3\" >0.096880</td>\n",
       "    </tr>\n",
       "    <tr>\n",
       "      <th id=\"T_c96c5_level0_row3\" class=\"row_heading level0 row3\" >Recency</th>\n",
       "      <td id=\"T_c96c5_row3_col0\" class=\"data row3 col0\" >0.340560</td>\n",
       "      <td id=\"T_c96c5_row3_col1\" class=\"data row3 col1\" >0.088234</td>\n",
       "      <td id=\"T_c96c5_row3_col2\" class=\"data row3 col2\" >0.096880</td>\n",
       "      <td id=\"T_c96c5_row3_col3\" class=\"data row3 col3\" >1.000000</td>\n",
       "    </tr>\n",
       "  </tbody>\n",
       "</table>\n"
      ],
      "text/plain": [
       "<pandas.io.formats.style.Styler at 0x7fb3606ac3d0>"
      ]
     },
     "execution_count": 26,
     "metadata": {},
     "output_type": "execute_result"
    }
   ],
   "source": [
    "apps[list_KPIs].corr().style.background_gradient()"
   ]
  },
  {
   "cell_type": "code",
   "execution_count": 27,
   "metadata": {},
   "outputs": [
    {
     "data": {
      "text/html": [
       "<div>\n",
       "<style scoped>\n",
       "    .dataframe tbody tr th:only-of-type {\n",
       "        vertical-align: middle;\n",
       "    }\n",
       "\n",
       "    .dataframe tbody tr th {\n",
       "        vertical-align: top;\n",
       "    }\n",
       "\n",
       "    .dataframe thead th {\n",
       "        text-align: right;\n",
       "    }\n",
       "</style>\n",
       "<table border=\"1\" class=\"dataframe\">\n",
       "  <thead>\n",
       "    <tr style=\"text-align: right;\">\n",
       "      <th></th>\n",
       "      <th>count</th>\n",
       "      <th>mean</th>\n",
       "      <th>std</th>\n",
       "      <th>min</th>\n",
       "      <th>25%</th>\n",
       "      <th>50%</th>\n",
       "      <th>75%</th>\n",
       "      <th>max</th>\n",
       "    </tr>\n",
       "  </thead>\n",
       "  <tbody>\n",
       "    <tr>\n",
       "      <th>Average User Rating</th>\n",
       "      <td>16847.0</td>\n",
       "      <td>1.805485</td>\n",
       "      <td>2.079630</td>\n",
       "      <td>0.0</td>\n",
       "      <td>0.0</td>\n",
       "      <td>0.0</td>\n",
       "      <td>4.0</td>\n",
       "      <td>5.0</td>\n",
       "    </tr>\n",
       "    <tr>\n",
       "      <th>User Rating Count</th>\n",
       "      <td>16847.0</td>\n",
       "      <td>1469.529352</td>\n",
       "      <td>28391.222431</td>\n",
       "      <td>0.0</td>\n",
       "      <td>0.0</td>\n",
       "      <td>0.0</td>\n",
       "      <td>31.0</td>\n",
       "      <td>3032734.0</td>\n",
       "    </tr>\n",
       "    <tr>\n",
       "      <th>num_Languages</th>\n",
       "      <td>16847.0</td>\n",
       "      <td>3.254229</td>\n",
       "      <td>6.165888</td>\n",
       "      <td>1.0</td>\n",
       "      <td>1.0</td>\n",
       "      <td>1.0</td>\n",
       "      <td>2.0</td>\n",
       "      <td>111.0</td>\n",
       "    </tr>\n",
       "    <tr>\n",
       "      <th>Recency</th>\n",
       "      <td>16847.0</td>\n",
       "      <td>431.448745</td>\n",
       "      <td>682.121803</td>\n",
       "      <td>0.0</td>\n",
       "      <td>0.0</td>\n",
       "      <td>93.0</td>\n",
       "      <td>580.0</td>\n",
       "      <td>4086.0</td>\n",
       "    </tr>\n",
       "  </tbody>\n",
       "</table>\n",
       "</div>"
      ],
      "text/plain": [
       "                       count         mean           std  min  25%   50%  \\\n",
       "Average User Rating  16847.0     1.805485      2.079630  0.0  0.0   0.0   \n",
       "User Rating Count    16847.0  1469.529352  28391.222431  0.0  0.0   0.0   \n",
       "num_Languages        16847.0     3.254229      6.165888  1.0  1.0   1.0   \n",
       "Recency              16847.0   431.448745    682.121803  0.0  0.0  93.0   \n",
       "\n",
       "                       75%        max  \n",
       "Average User Rating    4.0        5.0  \n",
       "User Rating Count     31.0  3032734.0  \n",
       "num_Languages          2.0      111.0  \n",
       "Recency              580.0     4086.0  "
      ]
     },
     "execution_count": 27,
     "metadata": {},
     "output_type": "execute_result"
    }
   ],
   "source": [
    "apps[list_KPIs].describe().T"
   ]
  },
  {
   "cell_type": "markdown",
   "metadata": {},
   "source": [
    "### Normalization KPIs\n",
    "\n",
    "x_norm = (x_i - x_min) / (x_max - x_min)"
   ]
  },
  {
   "cell_type": "code",
   "execution_count": 28,
   "metadata": {},
   "outputs": [],
   "source": [
    "def normalization(vals):\n",
    "    new_vals = []\n",
    "    max_val = max(vals)\n",
    "    min_val = min(vals)\n",
    "    for val in vals:\n",
    "        val_norm = (val-min_val)/(max_val-min_val)\n",
    "        new_vals.append(val_norm)\n",
    "    return new_vals"
   ]
  },
  {
   "cell_type": "code",
   "execution_count": 29,
   "metadata": {},
   "outputs": [],
   "source": [
    "for col in list_KPIs:\n",
    "    apps[col + \"_Norm\"] = normalization(apps[col])"
   ]
  },
  {
   "cell_type": "code",
   "execution_count": 30,
   "metadata": {},
   "outputs": [
    {
     "data": {
      "text/html": [
       "<div>\n",
       "<style scoped>\n",
       "    .dataframe tbody tr th:only-of-type {\n",
       "        vertical-align: middle;\n",
       "    }\n",
       "\n",
       "    .dataframe tbody tr th {\n",
       "        vertical-align: top;\n",
       "    }\n",
       "\n",
       "    .dataframe thead th {\n",
       "        text-align: right;\n",
       "    }\n",
       "</style>\n",
       "<table border=\"1\" class=\"dataframe\">\n",
       "  <thead>\n",
       "    <tr style=\"text-align: right;\">\n",
       "      <th></th>\n",
       "      <th>count</th>\n",
       "      <th>mean</th>\n",
       "      <th>std</th>\n",
       "      <th>min</th>\n",
       "      <th>25%</th>\n",
       "      <th>50%</th>\n",
       "      <th>75%</th>\n",
       "      <th>max</th>\n",
       "    </tr>\n",
       "  </thead>\n",
       "  <tbody>\n",
       "    <tr>\n",
       "      <th>ID</th>\n",
       "      <td>16847.0</td>\n",
       "      <td>1.059651e+09</td>\n",
       "      <td>2.999351e+08</td>\n",
       "      <td>284921427.0</td>\n",
       "      <td>899654330.0</td>\n",
       "      <td>1.112429e+09</td>\n",
       "      <td>1.286958e+09</td>\n",
       "      <td>1.475077e+09</td>\n",
       "    </tr>\n",
       "    <tr>\n",
       "      <th>Average User Rating</th>\n",
       "      <td>16847.0</td>\n",
       "      <td>1.805485e+00</td>\n",
       "      <td>2.079630e+00</td>\n",
       "      <td>0.0</td>\n",
       "      <td>0.0</td>\n",
       "      <td>0.000000e+00</td>\n",
       "      <td>4.000000e+00</td>\n",
       "      <td>5.000000e+00</td>\n",
       "    </tr>\n",
       "    <tr>\n",
       "      <th>User Rating Count</th>\n",
       "      <td>16847.0</td>\n",
       "      <td>1.469529e+03</td>\n",
       "      <td>2.839122e+04</td>\n",
       "      <td>0.0</td>\n",
       "      <td>0.0</td>\n",
       "      <td>0.000000e+00</td>\n",
       "      <td>3.100000e+01</td>\n",
       "      <td>3.032734e+06</td>\n",
       "    </tr>\n",
       "    <tr>\n",
       "      <th>Price</th>\n",
       "      <td>16847.0</td>\n",
       "      <td>8.141871e-01</td>\n",
       "      <td>7.865709e+00</td>\n",
       "      <td>0.0</td>\n",
       "      <td>0.0</td>\n",
       "      <td>0.000000e+00</td>\n",
       "      <td>0.000000e+00</td>\n",
       "      <td>1.799900e+02</td>\n",
       "    </tr>\n",
       "    <tr>\n",
       "      <th>Size</th>\n",
       "      <td>16847.0</td>\n",
       "      <td>1.158200e+08</td>\n",
       "      <td>2.043155e+08</td>\n",
       "      <td>51328.0</td>\n",
       "      <td>22950400.0</td>\n",
       "      <td>5.674701e+07</td>\n",
       "      <td>1.329777e+08</td>\n",
       "      <td>4.005591e+09</td>\n",
       "    </tr>\n",
       "    <tr>\n",
       "      <th>num_Languages</th>\n",
       "      <td>16847.0</td>\n",
       "      <td>3.254229e+00</td>\n",
       "      <td>6.165888e+00</td>\n",
       "      <td>1.0</td>\n",
       "      <td>1.0</td>\n",
       "      <td>1.000000e+00</td>\n",
       "      <td>2.000000e+00</td>\n",
       "      <td>1.110000e+02</td>\n",
       "    </tr>\n",
       "    <tr>\n",
       "      <th>Recency</th>\n",
       "      <td>16847.0</td>\n",
       "      <td>4.314487e+02</td>\n",
       "      <td>6.821218e+02</td>\n",
       "      <td>0.0</td>\n",
       "      <td>0.0</td>\n",
       "      <td>9.300000e+01</td>\n",
       "      <td>5.800000e+02</td>\n",
       "      <td>4.086000e+03</td>\n",
       "    </tr>\n",
       "    <tr>\n",
       "      <th>Average User Rating_Norm</th>\n",
       "      <td>16847.0</td>\n",
       "      <td>3.610969e-01</td>\n",
       "      <td>4.159259e-01</td>\n",
       "      <td>0.0</td>\n",
       "      <td>0.0</td>\n",
       "      <td>0.000000e+00</td>\n",
       "      <td>8.000000e-01</td>\n",
       "      <td>1.000000e+00</td>\n",
       "    </tr>\n",
       "    <tr>\n",
       "      <th>User Rating Count_Norm</th>\n",
       "      <td>16847.0</td>\n",
       "      <td>4.845560e-04</td>\n",
       "      <td>9.361593e-03</td>\n",
       "      <td>0.0</td>\n",
       "      <td>0.0</td>\n",
       "      <td>0.000000e+00</td>\n",
       "      <td>1.022180e-05</td>\n",
       "      <td>1.000000e+00</td>\n",
       "    </tr>\n",
       "    <tr>\n",
       "      <th>num_Languages_Norm</th>\n",
       "      <td>16847.0</td>\n",
       "      <td>2.049299e-02</td>\n",
       "      <td>5.605353e-02</td>\n",
       "      <td>0.0</td>\n",
       "      <td>0.0</td>\n",
       "      <td>0.000000e+00</td>\n",
       "      <td>9.090909e-03</td>\n",
       "      <td>1.000000e+00</td>\n",
       "    </tr>\n",
       "    <tr>\n",
       "      <th>Recency_Norm</th>\n",
       "      <td>16847.0</td>\n",
       "      <td>1.055920e-01</td>\n",
       "      <td>1.669412e-01</td>\n",
       "      <td>0.0</td>\n",
       "      <td>0.0</td>\n",
       "      <td>2.276065e-02</td>\n",
       "      <td>1.419481e-01</td>\n",
       "      <td>1.000000e+00</td>\n",
       "    </tr>\n",
       "  </tbody>\n",
       "</table>\n",
       "</div>"
      ],
      "text/plain": [
       "                            count          mean           std          min  \\\n",
       "ID                        16847.0  1.059651e+09  2.999351e+08  284921427.0   \n",
       "Average User Rating       16847.0  1.805485e+00  2.079630e+00          0.0   \n",
       "User Rating Count         16847.0  1.469529e+03  2.839122e+04          0.0   \n",
       "Price                     16847.0  8.141871e-01  7.865709e+00          0.0   \n",
       "Size                      16847.0  1.158200e+08  2.043155e+08      51328.0   \n",
       "num_Languages             16847.0  3.254229e+00  6.165888e+00          1.0   \n",
       "Recency                   16847.0  4.314487e+02  6.821218e+02          0.0   \n",
       "Average User Rating_Norm  16847.0  3.610969e-01  4.159259e-01          0.0   \n",
       "User Rating Count_Norm    16847.0  4.845560e-04  9.361593e-03          0.0   \n",
       "num_Languages_Norm        16847.0  2.049299e-02  5.605353e-02          0.0   \n",
       "Recency_Norm              16847.0  1.055920e-01  1.669412e-01          0.0   \n",
       "\n",
       "                                  25%           50%           75%  \\\n",
       "ID                        899654330.0  1.112429e+09  1.286958e+09   \n",
       "Average User Rating               0.0  0.000000e+00  4.000000e+00   \n",
       "User Rating Count                 0.0  0.000000e+00  3.100000e+01   \n",
       "Price                             0.0  0.000000e+00  0.000000e+00   \n",
       "Size                       22950400.0  5.674701e+07  1.329777e+08   \n",
       "num_Languages                     1.0  1.000000e+00  2.000000e+00   \n",
       "Recency                           0.0  9.300000e+01  5.800000e+02   \n",
       "Average User Rating_Norm          0.0  0.000000e+00  8.000000e-01   \n",
       "User Rating Count_Norm            0.0  0.000000e+00  1.022180e-05   \n",
       "num_Languages_Norm                0.0  0.000000e+00  9.090909e-03   \n",
       "Recency_Norm                      0.0  2.276065e-02  1.419481e-01   \n",
       "\n",
       "                                   max  \n",
       "ID                        1.475077e+09  \n",
       "Average User Rating       5.000000e+00  \n",
       "User Rating Count         3.032734e+06  \n",
       "Price                     1.799900e+02  \n",
       "Size                      4.005591e+09  \n",
       "num_Languages             1.110000e+02  \n",
       "Recency                   4.086000e+03  \n",
       "Average User Rating_Norm  1.000000e+00  \n",
       "User Rating Count_Norm    1.000000e+00  \n",
       "num_Languages_Norm        1.000000e+00  \n",
       "Recency_Norm              1.000000e+00  "
      ]
     },
     "execution_count": 30,
     "metadata": {},
     "output_type": "execute_result"
    }
   ],
   "source": [
    "apps.describe().T"
   ]
  },
  {
   "cell_type": "code",
   "execution_count": 31,
   "metadata": {},
   "outputs": [],
   "source": [
    "list_KPIs_norm = [\"Average User Rating_Norm\", \"User Rating Count_Norm\", \"num_Languages_Norm\", \"Recency_Norm\"]"
   ]
  },
  {
   "cell_type": "markdown",
   "metadata": {},
   "source": [
    "### Create Score"
   ]
  },
  {
   "cell_type": "code",
   "execution_count": 32,
   "metadata": {},
   "outputs": [],
   "source": [
    "apps[\"Score\"] = apps[list_KPIs_norm].mean(axis=1)"
   ]
  },
  {
   "cell_type": "code",
   "execution_count": 33,
   "metadata": {},
   "outputs": [
    {
     "data": {
      "text/plain": [
       "<AxesSubplot:xlabel='Score', ylabel='Count'>"
      ]
     },
     "execution_count": 33,
     "metadata": {},
     "output_type": "execute_result"
    },
    {
     "data": {
      "image/png": "[encoded data removed]",
      "text/plain": [
       "<Figure size 432x288 with 1 Axes>"
      ]
     },
     "metadata": {
      "needs_background": "light"
     },
     "output_type": "display_data"
    }
   ],
   "source": [
    "sns.histplot(apps[\"Score\"])"
   ]
  },
  {
   "cell_type": "code",
   "execution_count": 34,
   "metadata": {},
   "outputs": [
    {
     "name": "stderr",
     "output_type": "stream",
     "text": [
      "/Users/pakkapon/opt/anaconda3/lib/python3.9/site-packages/seaborn/_decorators.py:36: FutureWarning: Pass the following variable as a keyword arg: x. From version 0.12, the only valid positional argument will be `data`, and passing other arguments without an explicit keyword will result in an error or misinterpretation.\n",
      "  warnings.warn(\n"
     ]
    },
    {
     "data": {
      "text/plain": [
       "<AxesSubplot:xlabel='Score'>"
      ]
     },
     "execution_count": 34,
     "metadata": {},
     "output_type": "execute_result"
    },
    {
     "data": {
      "image/png": "[encoded data removed]",
      "text/plain": [
       "<Figure size 432x288 with 1 Axes>"
      ]
     },
     "metadata": {
      "needs_background": "light"
     },
     "output_type": "display_data"
    }
   ],
   "source": [
    "sns.boxplot(apps[\"Score\"])"
   ]
  },
  {
   "cell_type": "markdown",
   "metadata": {},
   "source": [
    "### Sort Score"
   ]
  },
  {
   "cell_type": "code",
   "execution_count": 35,
   "metadata": {},
   "outputs": [],
   "source": [
    "top_10_pop_games = apps.sort_values(by=\"Score\", ascending=False)[:10]"
   ]
  },
  {
   "cell_type": "code",
   "execution_count": 36,
   "metadata": {},
   "outputs": [],
   "source": [
    "top_10_pop_games.to_csv(os.getcwd()+\"/output/top_10_pop_games\", index=False)"
   ]
  },
  {
   "cell_type": "markdown",
   "metadata": {},
   "source": [
    "### Machine Learning Predictive KPIs Score with Linear regression Model"
   ]
  },
  {
   "cell_type": "markdown",
   "metadata": {},
   "source": [
    "Score = f(Average User Rating, User Rating Count, num_Languages, Recency)"
   ]
  },
  {
   "cell_type": "code",
   "execution_count": 38,
   "metadata": {},
   "outputs": [],
   "source": [
    "from sklearn.model_selection import train_test_split\n",
    "from sklearn.linear_model import LinearRegression\n",
    "from sklearn import metrics"
   ]
  },
  {
   "cell_type": "code",
   "execution_count": 39,
   "metadata": {},
   "outputs": [],
   "source": [
    "x = apps[list_KPIs]\n",
    "y = apps[\"Score\"]"
   ]
  },
  {
   "cell_type": "code",
   "execution_count": 40,
   "metadata": {},
   "outputs": [],
   "source": [
    "x_train, x_test, y_train, y_test = train_test_split(x,y,train_size=0.75)\n"
   ]
  },
  {
   "cell_type": "code",
   "execution_count": 41,
   "metadata": {},
   "outputs": [],
   "source": [
    "from sklearn.preprocessing import StandardScaler\n",
    "\n",
    "scaler = StandardScaler()\n",
    "X_train = scaler.fit_transform(x_train)\n",
    "X_test = scaler.transform(x_test)"
   ]
  },
  {
   "cell_type": "code",
   "execution_count": 42,
   "metadata": {},
   "outputs": [
    {
     "data": {
      "text/plain": [
       "LinearRegression()"
      ]
     },
     "execution_count": 42,
     "metadata": {},
     "output_type": "execute_result"
    }
   ],
   "source": [
    "reg = LinearRegression()\n",
    "reg.fit(x_train, y_train)"
   ]
  },
  {
   "cell_type": "code",
   "execution_count": 46,
   "metadata": {},
   "outputs": [
    {
     "name": "stdout",
     "output_type": "stream",
     "text": [
      "MAE = 3.088387997567988e-15\n",
      "MSE = 1.199073147900624e-29\n",
      "RMSE = 3.462763560944674e-15\n",
      "r2_score = 1.0\n",
      "intercept = -0.0022727272727305348\n",
      "coef.  [5.00000000e-02 8.24338699e-08 2.27272727e-03 6.11845326e-05]\n"
     ]
    }
   ],
   "source": [
    "y_predict = reg.predict(x_test)\n",
    "\n",
    "print(\"MAE =\" , metrics.mean_absolute_error(y_test , y_predict))\n",
    "print(\"MSE =\" , metrics.mean_squared_error(y_test , y_predict))\n",
    "print(\"RMSE =\" , np.sqrt(metrics.mean_squared_error(y_test , y_predict)))\n",
    "print(\"r2_score =\", metrics.r2_score(y_test , y_predict))\n",
    "print(\"intercept =\", reg.intercept_)\n",
    "print(\"coef. \", reg.coef_)"
   ]
  }
 ],
 "metadata": {
  "interpreter": {
   "hash": "aee8b7b246df8f9039afb4144a1f6fd8d2ca17a180786b69acc140d282b71a49"
  },
  "kernelspec": {
   "display_name": "Python 3.10.1 64-bit",
   "language": "python",
   "name": "python3"
  },
  "language_info": {
   "codemirror_mode": {
    "name": "ipython",
    "version": 3
   },
   "file_extension": ".py",
   "mimetype": "text/x-python",
   "name": "python",
   "nbconvert_exporter": "python",
   "pygments_lexer": "ipython3",
   "version": "3.9.7"
  },
  "orig_nbformat": 4
 },
 "nbformat": 4,
 "nbformat_minor": 2
}
